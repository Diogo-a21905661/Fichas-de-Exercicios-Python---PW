{
 "cells": [
  {
   "cell_type": "markdown",
   "metadata": {},
   "source": [
    "# Ficha 01 de Exercícios de Python\n",
    "\n",
    "A ficha deve ser resolvida e [submetida](https://secure.grupolusofona.pt/ulht/moodle/mod/assign/view.php?id=389735) antes da sua aula prática da semana de 19.4 a 23.4.\n",
    "\n",
    "Trabalhando com Jupyter Notebook: \n",
    "1. Descarregue o [Python](https://www.python.org/downloads/) e instale o Python versão 3 \n",
    "2. Abra uma janela de comando (cmd) e execute o comando para instalar o Jupyter: `python -m pip install jupyter` \n",
    "3. escolha uma pasta onde queira trabalhar, e grave nessa pasta este ficheiro PW_Exercicios_Python_01.ipynb\n",
    "4. na linha de comando, vá até a essa pasta e execute o comando: `jupyter notebook`\n",
    "5. O browser será aberto automáticamente, aparecendo informação da pasta e a ficha de exercícios, que clicando será aberta\n",
    "6. Edite as respostas diretamente nas células vazias. Para executar a célula, prima `Shift + Enter`\n",
    "\n",
    "Se tiver dúvidas, consulte os [slides da aula](https://secure.grupolusofona.pt/ulht/moodle/pluginfile.php/800079/course/section/398731/PW_Python_01.pptx) que têm toda a matéria necessária para a resolução desta ficha."
   ]
  },
  {
   "cell_type": "markdown",
   "metadata": {},
   "source": [
    "# 1. Métodos das Strings\n",
    "\n",
    "Em Python, cada tipo de variável é uma classe tem um conjunto de métodos (funções) disponiveis. Pode listar os métodos existentes do tipo string, através da instrução `dir(str)`. A função `help()`  mostra, para uma determinado tipo, a descrição de todos os métodos disponíveis. Execute help(str) para ver a descrição de todos os métodos. Alternativamente, para um método específico, pode inquirir sobre o seu funcionamento, por exemplo, help(str.capitalise). "
   ]
  },
  {
   "cell_type": "markdown",
   "metadata": {},
   "source": [
    "Para os métodos em baixo indicados, veja a descrição com a função help e escreva um exemplo simples de utilização"
   ]
  },
  {
   "cell_type": "code",
   "execution_count": 3,
   "metadata": {},
   "outputs": [
    {
     "name": "stdout",
     "output_type": "stream",
     "text": [
      "Help on method_descriptor:\n",
      "\n",
      "title(self, /)\n",
      "    Return a version of the string where each word is titlecased.\n",
      "    \n",
      "    More specifically, words start with uppercased characters and all remaining\n",
      "    cased characters have lower case.\n",
      "\n"
     ]
    }
   ],
   "source": [
    "help(str.title)"
   ]
  },
  {
   "cell_type": "code",
   "execution_count": 2,
   "metadata": {},
   "outputs": [
    {
     "name": "stdout",
     "output_type": "stream",
     "text": [
      "Exercícios Introdutorios Ao Python\n"
     ]
    }
   ],
   "source": [
    "# title\n",
    "s = \"exercícios introdutorios ao python\"\n",
    "titulo = s.title()\n",
    "print(titulo)"
   ]
  },
  {
   "cell_type": "code",
   "execution_count": 1,
   "metadata": {},
   "outputs": [
    {
     "name": "stdout",
     "output_type": "stream",
     "text": [
      "Exercicios introdutorios ao python\n"
     ]
    }
   ],
   "source": [
    "#capitalize\n",
    "s = \"exercicios introdutorios ao python\"\n",
    "capital = s.capitalize()\n",
    "print(capital)"
   ]
  },
  {
   "cell_type": "code",
   "execution_count": 14,
   "metadata": {
    "scrolled": true
   },
   "outputs": [
    {
     "name": "stdout",
     "output_type": "stream",
     "text": [
      "['exercicios', 'introdutorios', 'ao', 'python']\n"
     ]
    }
   ],
   "source": [
    "#split\n",
    "s = \"exercicios introdutorios ao python\"\n",
    "divide = s.split(\" \")\n",
    "print(divide)"
   ]
  },
  {
   "cell_type": "code",
   "execution_count": 17,
   "metadata": {
    "scrolled": true
   },
   "outputs": [
    {
     "name": "stdout",
     "output_type": "stream",
     "text": [
      "exercicios introdutorios ao python\n"
     ]
    }
   ],
   "source": [
    "#join\n",
    "s1 = \"exercicios introdutorios\"\n",
    "s2 = \"ao python\"\n",
    "junta = \" \".join([s1, s2])\n",
    "print(junta)"
   ]
  },
  {
   "cell_type": "code",
   "execution_count": 20,
   "metadata": {},
   "outputs": [
    {
     "name": "stdout",
     "output_type": "stream",
     "text": [
      "oorooodooro\n"
     ]
    }
   ],
   "source": [
    "#replace\n",
    "palavra = \"abracadabra\"\n",
    "palavra = palavra.replace('a', 'o')\n",
    "palavra = palavra.replace('b','o')\n",
    "palavra = palavra.replace('c','o')\n",
    "print(palavra)"
   ]
  },
  {
   "cell_type": "code",
   "execution_count": 24,
   "metadata": {},
   "outputs": [
    {
     "name": "stdout",
     "output_type": "stream",
     "text": [
      "6\n"
     ]
    }
   ],
   "source": [
    "#count\n",
    "s = \"exercicios introdutorios ao python\"\n",
    "numOfA = s.count('o')\n",
    "print(numOfA)"
   ]
  },
  {
   "cell_type": "code",
   "execution_count": 25,
   "metadata": {},
   "outputs": [
    {
     "name": "stdout",
     "output_type": "stream",
     "text": [
      "-1\n"
     ]
    }
   ],
   "source": [
    "#find\n",
    "s = \"exercicios introdutorios ao python\"\n",
    "found = s.find('z')\n",
    "print(found)"
   ]
  },
  {
   "cell_type": "code",
   "execution_count": 30,
   "metadata": {},
   "outputs": [
    {
     "name": "stdout",
     "output_type": "stream",
     "text": [
      "39\n"
     ]
    }
   ],
   "source": [
    "#index \n",
    "s = \"im dont use the letter given except -> a\"\n",
    "indexFound = s.index('a')\n",
    "print(indexFound)"
   ]
  },
  {
   "cell_type": "code",
   "execution_count": 31,
   "metadata": {},
   "outputs": [
    {
     "name": "stdout",
     "output_type": "stream",
     "text": [
      "True\n"
     ]
    }
   ],
   "source": [
    "#isalnum\n",
    "s = \"123abc\"\n",
    "check = s.isalnum()\n",
    "print(check)"
   ]
  },
  {
   "cell_type": "code",
   "execution_count": 37,
   "metadata": {},
   "outputs": [
    {
     "name": "stdout",
     "output_type": "stream",
     "text": [
      "True\n"
     ]
    }
   ],
   "source": [
    "#isalpha\n",
    "s = \"acbdex\"\n",
    "check = s.isalpha()\n",
    "print(check)"
   ]
  },
  {
   "cell_type": "code",
   "execution_count": 36,
   "metadata": {},
   "outputs": [
    {
     "name": "stdout",
     "output_type": "stream",
     "text": [
      "False\n"
     ]
    }
   ],
   "source": [
    "#isdigit\n",
    "s = \"1234\"\n",
    "check = s.isdigit()\n",
    "print(check)"
   ]
  },
  {
   "cell_type": "code",
   "execution_count": 43,
   "metadata": {},
   "outputs": [
    {
     "name": "stdout",
     "output_type": "stream",
     "text": [
      "6\n"
     ]
    }
   ],
   "source": [
    "# função len()\n",
    "s = \"Man -.\"\n",
    "sizeText = len(s)\n",
    "print(sizeText)"
   ]
  },
  {
   "cell_type": "markdown",
   "metadata": {},
   "source": [
    "# 2. Onomatopeia\n",
    "\n",
    "Defina, usando operadores sobre strings de concatenação `+` e repetição `*`, uma string com a seguinte onomatopeia: \n",
    "\n",
    "```\n",
    "buuuuuuummmmm\n",
    "```"
   ]
  },
  {
   "cell_type": "code",
   "execution_count": 46,
   "metadata": {},
   "outputs": [
    {
     "name": "stdout",
     "output_type": "stream",
     "text": [
      "buuuuuuummmmm\n"
     ]
    }
   ],
   "source": [
    "print(\"b\" + \"u\" * 7 + \"m\" * 5)"
   ]
  },
  {
   "cell_type": "markdown",
   "metadata": {},
   "source": [
    "# 3. Constrói email de nome\n",
    "\n",
    "Escreva um programa que pede ao utilizador para inserir um nome completo, com vários apelidos,  e construa um email. Exemplo:\n",
    "\n",
    "```\n",
    "Insira um nome completo: Manuel Sousa Silva\n",
    "Email: manuel.sousa.silva@ulusofona.pt\n",
    "```\n",
    "\n",
    "Para tal recorra aos métodos das strings tais como split ou replace, lower e concatenação."
   ]
  },
  {
   "cell_type": "code",
   "execution_count": 54,
   "metadata": {
    "scrolled": false
   },
   "outputs": [
    {
     "name": "stdout",
     "output_type": "stream",
     "text": [
      "Insira um nome completo: Diogo\n",
      "Email: Araújo\n",
      "                        \n",
      "Dados Verificados:\n",
      "Diogo foi o nome que inseriu.\n",
      "Araújo foi o email que inseriu.\n"
     ]
    }
   ],
   "source": [
    "nome = input(\"Insira um nome completo: \")\n",
    "email = input(\"Email: \")\n",
    "\n",
    "print(\"                        \")\n",
    "print(\"Dados Verificados:\")\n",
    "print(f\"{nome} foi o nome que inseriu.\")\n",
    "print(f\"{email} foi o email que inseriu.\")"
   ]
  },
  {
   "cell_type": "markdown",
   "metadata": {},
   "source": [
    "# 4. Pede código de 4 digitos insistentemente até conseguir\n",
    "\n",
    "Escreva um programa que pede ao utilizador para inserir um código numérico de 4 dígitos. Enquanto não o fizer, volte a pedir:\n",
    "\n",
    "```\n",
    "Insira um codigo numerico de 4 digitos: 12345\n",
    "Insira um codigo numerico de 4 digitos: 1a2c\n",
    "Insira um codigo numerico de 4 digitos: 1234\n",
    "Obrigado\n",
    "```\n",
    "\n",
    "Para tal recorra por exemplo ao método das strings isdigit e à função len."
   ]
  },
  {
   "cell_type": "code",
   "execution_count": null,
   "metadata": {
    "scrolled": false
   },
   "outputs": [],
   "source": [
    "check = True\n",
    "\n",
    "while check:\n",
    "    num = input(\"Insira um codigo numerico de 4 digitos: \")\n",
    "    \n",
    "    if num.isdigit() == False:\n",
    "        continue\n",
    "    if len(num) != 4:\n",
    "        continue\n",
    "    \n",
    "    check = False;\n",
    "    \n",
    "print(\"Obrigado\")"
   ]
  },
  {
   "cell_type": "markdown",
   "metadata": {},
   "source": [
    "# 5. pergunte uma adivinha \n",
    "* Pergunte uma adivinha: \"Qual é o animal que anda com uma pata?\"\n",
    "* enquanto não adivinhar, volte a perguntar.\n",
    "* se acertar dá os parabéns e termina.\n",
    "* se escrever \"desisto\" o programa termina e imprime uma mensagem, dizendo a resposta (é o 🦆). Use outros emijis se quiser http://getemoji.com/, fazendo copy-paste diretamente.\n",
    "\n",
    "Nota: dentro de \" \" podemos escrever ' '."
   ]
  },
  {
   "cell_type": "code",
   "execution_count": null,
   "metadata": {},
   "outputs": [],
   "source": [
    "check = True\n",
    "answer = -1\n",
    "\n",
    "while check:\n",
    "    animal = input(\"Qual é o animal que anda com uma pata? \")\n",
    "    \n",
    "    if animal.lower() == \"pato\":\n",
    "        check = False\n",
    "        answer = 1\n",
    "    \n",
    "    if animal.lower() == \"desisto\":\n",
    "        check = False;\n",
    "        \n",
    "if answer == 1:\n",
    "    print(\"Parabéns! A resposta era o 🦆!\")\n",
    "else:\n",
    "    print(\"Oh no! A reposta correta era o 🦆!\")"
   ]
  },
  {
   "cell_type": "markdown",
   "metadata": {},
   "source": [
    "# 6. Tabuada\n",
    "\n",
    "Peça ao utilizador um inteiro entre 1 e 10. Imprima a tabuada desse número devidamente alinhada.\n",
    "\n",
    "Exemplo de utilização:\n",
    "\n",
    "```\n",
    "Insira um inteiro entre 1 e 10: 11\n",
    "Insira um inteiro entre 1 e 10: ola\n",
    "Insira um inteiro entre 1 e 10: 2\n",
    "2 x  1 =   2\n",
    "2 x  2 =   4\n",
    "2 x  3 =   6\n",
    "2 x  4 =   8\n",
    "2 x  5 =  10\n",
    "2 x  6 =  12\n",
    "2 x  7 =  14\n",
    "2 x  8 =  16\n",
    "2 x  9 =  18\n",
    "2 x 10 =  20\n",
    "```"
   ]
  },
  {
   "cell_type": "code",
   "execution_count": 6,
   "metadata": {},
   "outputs": [
    {
     "name": "stdout",
     "output_type": "stream",
     "text": [
      "Insira um inteiro entre 1 e 10: 11\n",
      "Insira um inteiro entre 1 e 10: a\n",
      "Insira um inteiro entre 1 e 10: 5\n",
      "5 x 1 = 5\n",
      "5 x 2 = 10\n",
      "5 x 3 = 15\n",
      "5 x 4 = 20\n",
      "5 x 5 = 25\n",
      "5 x 6 = 30\n",
      "5 x 7 = 35\n",
      "5 x 8 = 40\n",
      "5 x 9 = 45\n",
      "5 x 10 = 50\n"
     ]
    }
   ],
   "source": [
    "check = True\n",
    "\n",
    "while check:\n",
    "    num = input(\"Insira um inteiro entre 1 e 10: \")\n",
    "    if num.isdigit() == False:\n",
    "        continue\n",
    "        \n",
    "    num = int(num)\n",
    "    if num < 0 or num > 10:\n",
    "        continue;\n",
    "    \n",
    "    for multiple in range(1, 11):\n",
    "        print(f\"{num} x {multiple} = \" + str(num * multiple))\n",
    "    \n",
    "    check = False"
   ]
  },
  {
   "cell_type": "markdown",
   "metadata": {},
   "source": [
    "# 7. Multibanco\n",
    "\n",
    "Elabore um programa em Python que simula um multibanco:\n",
    "* O programa tem um código de acesso 1234, armazenado numa variável.\n",
    "* O utilizador tem 3 tentativas para acertar.\n",
    "* Caso não acerte, deve dizer “código não aceite”.\n",
    "* Caso acerte numa das tentativas, deve dizer “código aceite” e o programa deverá terminar.\n",
    "* Caso esgote as 3 tentativas, deve dizer “número de tentativas expiradas”.\n",
    "\n",
    "Utilize um ciclo for empregando break else e continue se conseguir."
   ]
  },
  {
   "cell_type": "code",
   "execution_count": 7,
   "metadata": {},
   "outputs": [
    {
     "name": "stdout",
     "output_type": "stream",
     "text": [
      "                    \n",
      "Tem 3 tentativas restantes.\n",
      "                    \n",
      "Introduza o código: 123\n",
      "Código não aceite.\n",
      "                    \n",
      "Tem 2 tentativas restantes.\n",
      "                    \n",
      "Introduza o código: 245\n",
      "Código não aceite.\n",
      "                    \n",
      "Tem 1 tentativa restante.\n",
      "                    \n",
      "Introduza o código: 123\n",
      "Código não aceite.\n",
      "Número de tentativas expiradas.\n"
     ]
    }
   ],
   "source": [
    "answer = 1234\n",
    "answerFound = -1\n",
    "\n",
    "for n in range(3, 0, -1):\n",
    "    print(\"                    \")\n",
    "    if n == 1:\n",
    "        print(f\"Tem {n} tentativa restante.\")\n",
    "    else:\n",
    "        print(f\"Tem {n} tentativas restantes.\")\n",
    "    print(\"                    \")\n",
    "    \n",
    "    code = input(\"Introduza o código: \")\n",
    "    if code.isdigit() == False:\n",
    "        continue\n",
    "\n",
    "    code = int(code)\n",
    "    if code != answer:\n",
    "        print(\"Código não aceite.\")\n",
    "        continue\n",
    "    else:\n",
    "        answerFound = 1\n",
    "        break\n",
    "        \n",
    "if answerFound == 1:\n",
    "    print(\"Código aceite.\")\n",
    "else:\n",
    "    print(\"Número de tentativas expiradas.\")"
   ]
  },
  {
   "cell_type": "markdown",
   "metadata": {},
   "source": [
    "# 8. Notas\n",
    "\n",
    "Escreva um programa que pede ao utilizador para inserir notas de testes, entre 0 e 20:\n",
    "* A quantidade de números é desconhecida à partida. \n",
    "* A leitura termina quando for introduzido o valor -1. \n",
    "* Se a nota inserida for inválida (fora do intervalo, ou não seja numérica), imprima um aviso. Recorra a try / except para se proteger de valores não numéricos.\n",
    "* Utilize onde possível as instruções break e continue. \n",
    "\n",
    "Imprima no ecrã:\n",
    "- A quantidade de notas válidas inseridas\n",
    "- A média das notas inseridas\n",
    "- A melhor nota\n",
    "\n",
    "\n",
    "Exemplo de utilização:\n",
    "```\n",
    "Insira uma nota entre 0 e 20 (-1 para terminar): 12\n",
    "Insira uma nota entre 0 e 20 (-1 para terminar): 16\n",
    "Insira uma nota entre 0 e 20 (-1 para terminar): ola\n",
    "Nota inválida. Não será tomada em consideração\n",
    "Insira uma nota entre 0 e 20 (-1 para terminar): 28\n",
    "Nota inválida. Não será tomada em consideração\n",
    "Insira uma nota entre 0 e 20 (-1 para terminar): 18\n",
    "Insira uma nota entre 0 e 20 (-1 para terminar): 15\n",
    "Insira uma nota entre 0 e 20 (-1 para terminar): -1\n",
    "\n",
    "Quantidade: 4\n",
    "Media: 15.2\n",
    "Maximo: 18\n",
    "``` "
   ]
  },
  {
   "cell_type": "code",
   "execution_count": 11,
   "metadata": {},
   "outputs": [
    {
     "name": "stdout",
     "output_type": "stream",
     "text": [
      "Insira uma nota entre 0 e 20 (-1 para terminar): abc\n",
      "Nota inválida. Não será tomada em consideração\n",
      "Insira uma nota entre 0 e 20 (-1 para terminar): 21\n",
      "Nota inválida. Não será tomada em consideração\n",
      "Insira uma nota entre 0 e 20 (-1 para terminar): 20\n",
      "Insira uma nota entre 0 e 20 (-1 para terminar): -2\n",
      "Nota inválida. Não será tomada em consideração\n",
      "Insira uma nota entre 0 e 20 (-1 para terminar): -1\n",
      "                               \n",
      "Quantidade: 1\n",
      "Media: 20.0\n",
      "Maximo: 20\n",
      "                               \n"
     ]
    }
   ],
   "source": [
    "somaTotal = 0\n",
    "quantidade = 0\n",
    "maximo = 0\n",
    "\n",
    "while True:\n",
    "    nota = input(\"Insira uma nota entre 0 e 20 (-1 para terminar): \")\n",
    "    if nota == \"-1\":\n",
    "        break\n",
    "    \n",
    "    if nota.isdigit() == False:\n",
    "        print(\"Nota inválida. Não será tomada em consideração\")\n",
    "        continue\n",
    "\n",
    "    nota = int(nota)\n",
    "    if nota < 0 or nota > 20:\n",
    "        print(\"Nota inválida. Não será tomada em consideração\")\n",
    "        continue\n",
    "        \n",
    "    somaTotal += nota\n",
    "    quantidade += 1\n",
    "    \n",
    "    if maximo < nota:\n",
    "        maximo = nota\n",
    "\n",
    "media = somaTotal / quantidade\n",
    "        \n",
    "print(\"                               \")        \n",
    "print(f\"Quantidade: {quantidade}\")\n",
    "print(f\"Media: {media}\")\n",
    "print(f\"Maximo: {maximo}\")\n",
    "print(\"                               \") "
   ]
  },
  {
   "cell_type": "markdown",
   "metadata": {},
   "source": [
    "# 9. Frase\n",
    "\n",
    "Peça ao utilizador para inserir uma frase e indique quantas vogais esta tem (tanto maiúsculas como minúsculas). \n",
    "\n",
    "Sugestões: \n",
    "* Lembre-se que pode iterar pelos carateres de uma string com: `for letra in frase:`. \n",
    "* Utilizar o operador `in`.\n",
    "* Numa string, pode imprimir aspas se definir a frase com plicas: `print(f'A frase \"{frase}\" tem {soma} carateres')`\n",
    "\n",
    "Exemplo de funcionamento:\n",
    "\n",
    "```\n",
    "Insira uma frase: Rega as tuas plantas. Ama as tuas rosas\n",
    "A frase \"Rega as tuas plantas. Ama as tuas rosas\" tem 14 vogais\n",
    "```"
   ]
  },
  {
   "cell_type": "code",
   "execution_count": 14,
   "metadata": {
    "scrolled": true
   },
   "outputs": [
    {
     "name": "stdout",
     "output_type": "stream",
     "text": [
      "Insira uma frase: diogo araujo\n",
      "A frase \"diogo araujo\" tem 7 vogais\n"
     ]
    }
   ],
   "source": [
    "frase = input(\"Insira uma frase: \")\n",
    "numVogais = 0\n",
    "\n",
    "for letra in frase:\n",
    "    if letra == 'a':\n",
    "        numVogais += 1\n",
    "        continue\n",
    "        \n",
    "    if letra == 'e':\n",
    "        numVogais += 1\n",
    "        continue\n",
    "        \n",
    "    if letra == 'i':\n",
    "        numVogais += 1\n",
    "        continue\n",
    "        \n",
    "    if letra == 'o':\n",
    "        numVogais += 1\n",
    "        continue\n",
    "        \n",
    "    if letra == 'u':\n",
    "        numVogais += 1\n",
    "        continue\n",
    "\n",
    "print(f\"A frase \\\"{frase}\\\" tem {numVogais} vogais\")"
   ]
  },
  {
   "cell_type": "markdown",
   "metadata": {},
   "source": [
    "# 10. Billboard"
   ]
  },
  {
   "cell_type": "markdown",
   "metadata": {},
   "source": [
    "Crie um programa que recebe uma string `frase` e um dígito `n`. \n",
    "\n",
    "\n",
    "Deverá aplicar uma deslocação de n caracteres para a direita (n>0) ou para a esquerda (n<0) e em seguida apresentar o resultado na consola. Uma deslocação de n caracteres consiste em mover os caracteres todos de uma string para as a posições contíguas e em que os últimos caracteres da string passam para o início.\n",
    "\n",
    "Sugestões:\n",
    "* utilize slices e concatenação de strings\n",
    "* tome atenção ao caso de o número ser maior que o comprimento da string. Nesse caso deverá fazer usar como deslocação n % len(frase), pois a rotação de len(frase) carateres é a própria frase.\n",
    "* Comece por implementar o deslocamento de um caracter para a direita. Poderá depois implementar o deslocamento de n caracteres para a direira repetindo n vezes a deslocação de 1 caracter. Repita o processo para os deslocamentos para a esquerda.\n",
    "\n",
    "\n",
    "Exemplo:\n",
    "\n",
    "```\n",
    "Introduza uma sequencia de carateres: abcdefghi\n",
    "Introduza um inteiro: 3\n",
    "Resultado de deslocação de 3 carateres: ghiabcdef\n",
    "```\n",
    "\n",
    "Outro exemplo:\n",
    "\n",
    "```\n",
    "Introduza uma sequencia de carateres: abcdefghi\n",
    "Introduza um inteiro: -2\n",
    "Resultado de deslocação de 3 carateres: defghiabc\n",
    "```\n"
   ]
  },
  {
   "cell_type": "code",
   "execution_count": 18,
   "metadata": {},
   "outputs": [
    {
     "name": "stdout",
     "output_type": "stream",
     "text": [
      "Introduza uma sequencia de carateres (\"end\" to finish the loop): frase\n",
      "Introduza um inteiro: -5\n",
      "Resultado de deslocação de -5 carateres: frase\n",
      "Introduza uma sequencia de carateres (\"end\" to finish the loop): frase\n",
      "Introduza um inteiro: 5\n",
      "Resultado de deslocação de 5 carateres: frase\n",
      "Introduza uma sequencia de carateres (\"end\" to finish the loop): frase\n",
      "Introduza um inteiro: 2\n",
      "Resultado de deslocação de 2 carateres: sefra\n",
      "Introduza uma sequencia de carateres (\"end\" to finish the loop): frase\n",
      "Introduza um inteiro: 3\n",
      "Resultado de deslocação de 3 carateres: asefr\n",
      "Introduza uma sequencia de carateres (\"end\" to finish the loop): frase\n",
      "Introduza um inteiro: -2\n",
      "Resultado de deslocação de -2 carateres: asefr\n",
      "Introduza uma sequencia de carateres (\"end\" to finish the loop): frase\n",
      "Introduza um inteiro: 7\n",
      "Resultado de deslocação de 7 carateres: sefra\n",
      "Introduza uma sequencia de carateres (\"end\" to finish the loop): end\n",
      "Thank you for coming!\n"
     ]
    }
   ],
   "source": [
    "while True: \n",
    "    frase = input(\"Introduza uma sequencia de carateres (\\\"end\\\" to finish the loop): \")\n",
    "    if frase == \"end\":\n",
    "        break\n",
    "    \n",
    "    num = int(input(\"Introduza um inteiro: \"))\n",
    "    numUsed = num\n",
    "    \n",
    "    if num < 0:\n",
    "        num = -num\n",
    "        \n",
    "        if num == len(frase):\n",
    "            print(f\"Resultado de deslocação de {numUsed} carateres: {frase}\")\n",
    "            continue\n",
    "        \n",
    "        if num > len(frase):\n",
    "            num = num % len(frase)\n",
    "\n",
    "        move = slice(0, num)\n",
    "        afterMove = slice(num, len(frase))\n",
    "\n",
    "        wordToMove = frase[move]\n",
    "        wordToMoveAfter = frase[afterMove]\n",
    "\n",
    "        finished = \"\".join((wordToMoveAfter, wordToMove))\n",
    "        print(f\"Resultado de deslocação de {numUsed} carateres: {finished}\")\n",
    "        continue\n",
    "    \n",
    "    if num == len(frase):\n",
    "        print(f\"Resultado de deslocação de {numUsed} carateres: {frase}\")\n",
    "        continue\n",
    "    \n",
    "    if num > len(frase):\n",
    "        num = num % len(frase)\n",
    "    \n",
    "    if num * 2 == len(frase):\n",
    "        move = slice(0, num)\n",
    "        afterMove = slice(num, len(frase))\n",
    "    \n",
    "        wordToMove = frase[move]\n",
    "        wordToMoveAfter = frase[afterMove]\n",
    "    \n",
    "        finished = \"\".join((wordToMoveAfter, wordToMove))\n",
    "        print(f\"Resultado de deslocação de {numUsed} carateres: {finished}\")\n",
    "        continue\n",
    "        \n",
    "    if num * 2 < len(frase):\n",
    "        move = slice(0, num)\n",
    "        afterMove = slice(num, len(frase) - num)\n",
    "        backToBeginning = slice(len(frase) - num, len(frase))\n",
    "    \n",
    "        wordToMove = frase[move]\n",
    "        wordToMoveAfter = frase[afterMove]\n",
    "        wordToBeginning = frase[backToBeginning]\n",
    "    \n",
    "        finished = \"\".join((wordToBeginning, wordToMove, wordToMoveAfter))\n",
    "        print(f\"Resultado de deslocação de {numUsed} carateres: {finished}\")\n",
    "        continue\n",
    "        \n",
    "   \n",
    "    diff = (num * 2) - len(frase)\n",
    "        \n",
    "    move = slice(0, num - diff)\n",
    "    afterMove = slice(num - diff, len(frase))\n",
    "    \n",
    "    wordToMove = frase[move]\n",
    "    wordToMoveAfter = frase[afterMove]\n",
    "    \n",
    "    finished = \"\".join((wordToMoveAfter, wordToMove))\n",
    "    print(f\"Resultado de deslocação de {numUsed} carateres: {finished}\")\n",
    "    continue    \n",
    "    \n",
    "print(\"Thank you for coming!\")"
   ]
  }
 ],
 "metadata": {
  "kernelspec": {
   "display_name": "Python 3",
   "language": "python",
   "name": "python3"
  },
  "language_info": {
   "codemirror_mode": {
    "name": "ipython",
    "version": 3
   },
   "file_extension": ".py",
   "mimetype": "text/x-python",
   "name": "python",
   "nbconvert_exporter": "python",
   "pygments_lexer": "ipython3",
   "version": "3.8.5"
  }
 },
 "nbformat": 4,
 "nbformat_minor": 4
}
