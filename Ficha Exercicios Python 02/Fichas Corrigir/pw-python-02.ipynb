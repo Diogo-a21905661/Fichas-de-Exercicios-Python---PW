{
 "cells": [
  {
   "cell_type": "markdown",
   "metadata": {},
   "source": [
    "# Exercícios de tipos compostos\n",
    "\n",
    "Consulte os slides se tiver dúvidas. Estes contêm toda a matéria necessária para realizar estes exercícios.\n",
    "\n",
    "\n",
    "# 1 Listas de números\n",
    "Considere a seguinte lista (execute a linha de código seguinte para que a lista fique definida no Jupyter)"
   ]
  },
  {
   "cell_type": "code",
   "execution_count": 1,
   "metadata": {},
   "outputs": [],
   "source": [
    "lista = [1, 4, 6, 22, 4, 7, 13, 12, 2, 3, 5]"
   ]
  },
  {
   "cell_type": "markdown",
   "metadata": {},
   "source": [
    "Lembre-se que existe:\n",
    "* uma indexação que vai da esquerda para a direita e começa no 0, \n",
    "* uma indexação que vai da direita para a esquerda e começa no -1  \n",
    "\n",
    "\n",
    "\n",
    "1.1 imprima o numero que está na posição de indice 2"
   ]
  },
  {
   "cell_type": "code",
   "execution_count": 2,
   "metadata": {},
   "outputs": [
    {
     "name": "stdout",
     "output_type": "stream",
     "text": [
      "6\n"
     ]
    }
   ],
   "source": [
    "print(lista[2])"
   ]
  },
  {
   "cell_type": "markdown",
   "metadata": {},
   "source": [
    "1.2 imprima o numero que está na penúltima posição da lista."
   ]
  },
  {
   "cell_type": "code",
   "execution_count": 3,
   "metadata": {},
   "outputs": [
    {
     "name": "stdout",
     "output_type": "stream",
     "text": [
      "3\n"
     ]
    }
   ],
   "source": [
    "print(lista[-2])"
   ]
  },
  {
   "cell_type": "markdown",
   "metadata": {},
   "source": [
    "1.3 imprima todos os números desta lista separados por espaços (use o atributo end). Lembre-se que com um ciclo for pode iterar diretamente pelos elementos da lista."
   ]
  },
  {
   "cell_type": "code",
   "execution_count": 34,
   "metadata": {},
   "outputs": [
    {
     "name": "stdout",
     "output_type": "stream",
     "text": [
      "1-4-6-22-4-7-13-12-2-3-5\n"
     ]
    }
   ],
   "source": [
    "for i in range(len(lista)):\n",
    "    print(lista[i]) if  (i == len(lista)-1) else print(lista[i], end=\"-\")\n",
    "\n"
   ]
  },
  {
   "cell_type": "markdown",
   "metadata": {},
   "source": [
    "1.4. Faça um programa que some todos os números pares desta lista e crie a lista pares, dos elementos pares da lista. imprima o resultado e a lista pares.\n",
    "\n",
    "Resultado esperado:\n",
    "```\n",
    "A soma dos numeros pares da lista é 50\n",
    "Lista dos númeors pares: [2, 4, 6, 22, 4, 12]\n",
    "```"
   ]
  },
  {
   "cell_type": "code",
   "execution_count": 5,
   "metadata": {},
   "outputs": [
    {
     "name": "stdout",
     "output_type": "stream",
     "text": [
      "A soma dos numeros pares da lista é 50\n",
      "Lista dos números pares: [4, 6, 22, 4, 12, 2]\n"
     ]
    }
   ],
   "source": [
    "lista2 = []\n",
    "for i in range(len(lista)):\n",
    "    if (lista[i] % 2 == 0 ):\n",
    "        lista2.append(lista[i])\n",
    "print('A soma dos numeros pares da lista é ' + str(sum(lista2)))\n",
    "print('Lista dos números pares: ' + str(lista2))"
   ]
  },
  {
   "cell_type": "markdown",
   "metadata": {},
   "source": [
    "1.5 Faça um programa que imprime o índice da posição e o valor de cada elemento da lista. Utilize a função enumerate.\n",
    "\n",
    "resultado esperado:\n",
    "```\n",
    "Na posição de indice 0 está o 1\n",
    "Na posição de indice 1 está o 4\n",
    "...\n",
    "```"
   ]
  },
  {
   "cell_type": "code",
   "execution_count": 15,
   "metadata": {},
   "outputs": [
    {
     "name": "stdout",
     "output_type": "stream",
     "text": [
      "0 1\n",
      "1 4\n",
      "2 6\n",
      "3 22\n",
      "4 4\n",
      "5 7\n",
      "6 13\n",
      "7 12\n",
      "8 2\n",
      "9 3\n",
      "10 5\n"
     ]
    }
   ],
   "source": [
    "for count, valor in enumerate(lista):\n",
    "    print(count, valor)"
   ]
  },
  {
   "cell_type": "markdown",
   "metadata": {},
   "source": [
    "1.6 Crie uma lista com os números de 1 a 10 usando uma compreensão"
   ]
  },
  {
   "cell_type": "code",
   "execution_count": 36,
   "metadata": {},
   "outputs": [
    {
     "name": "stdout",
     "output_type": "stream",
     "text": [
      "[1, 2, 3, 4, 5, 6, 7, 8, 9, 10]\n"
     ]
    }
   ],
   "source": [
    "numeros=[i for i in range(1, 10+1)]\n",
    "print (numeros)"
   ]
  },
  {
   "cell_type": "markdown",
   "metadata": {},
   "source": [
    "1.7 Cria uma lista com os números pares de 100 a 140, inclusivé,  usando uma compreensão"
   ]
  },
  {
   "cell_type": "code",
   "execution_count": null,
   "metadata": {},
   "outputs": [],
   "source": [
    "print([i for i in range(100,141) if n % 2 == 0])"
   ]
  },
  {
   "cell_type": "markdown",
   "metadata": {},
   "source": [
    "# 2 Listas de strings\n",
    "\n",
    "Considere a seguinte lista: \n",
    "\n",
    "`nomes = [\"Maria\", \"Manuel\", \"Luis\", \"Augusta\", \"Zé\", \"Tolentino\", \"Ana\"]`\n",
    "\n",
    "\n",
    "\n",
    "2.1 Recorrendo a um ciclo e a formated strings, itere pelos vários nomes e imprima para cada nome uma frase do tipo:\n",
    "\n",
    "`Bom dia, Maria!`"
   ]
  },
  {
   "cell_type": "code",
   "execution_count": 6,
   "metadata": {},
   "outputs": [
    {
     "name": "stdout",
     "output_type": "stream",
     "text": [
      "Bom dia Maria!\n",
      "Bom dia Manuel!\n",
      "Bom dia Luis!\n",
      "Bom dia Augusta!\n",
      "Bom dia Zé!\n",
      "Bom dia Tolentino!\n",
      "Bom dia Ana!\n"
     ]
    }
   ],
   "source": [
    "nomes = [\"Maria\", \"Manuel\", \"Luis\", \"Augusta\", \"Zé\", \"Tolentino\", \"Ana\"]\n",
    "print('\\n'.join([\"Bom dia \" + nome + \"!\" for nome in nomes]))"
   ]
  },
  {
   "cell_type": "markdown",
   "metadata": {},
   "source": [
    "2.2 Crie uma lista ordenada alfabeticamente com o método sort e imprima-a.\n",
    "\n",
    "Resultado esperado: `['Ana', 'Augusta', 'Luis', 'Manuel', 'Maria', 'Tolentino', 'Zé']`"
   ]
  },
  {
   "cell_type": "code",
   "execution_count": 7,
   "metadata": {},
   "outputs": [
    {
     "name": "stdout",
     "output_type": "stream",
     "text": [
      "['Ana', 'Augusta', 'Luis', 'Manuel', 'Maria', 'Tolentino', 'Zé']\n"
     ]
    }
   ],
   "source": [
    "print(sorted(nomes))"
   ]
  },
  {
   "cell_type": "markdown",
   "metadata": {},
   "source": [
    "2.3 Crie uma lista ordenada pelo número de carateres, de forma decrescente, e imprima-a. Use um lambda, tal como foi feito na aula.\n",
    "\n",
    "Resultado esperado: `['Tolentino', 'Augusta', 'Manuel', 'Maria', 'Luis', 'Ana', 'Zé']`"
   ]
  },
  {
   "cell_type": "code",
   "execution_count": 8,
   "metadata": {},
   "outputs": [
    {
     "name": "stdout",
     "output_type": "stream",
     "text": [
      "['Tolentino', 'Augusta', 'Manuel', 'Maria', 'Luis', 'Ana', 'Zé']\n"
     ]
    }
   ],
   "source": [
    "print(sorted(nomes, key=lambda nome: -len(nome)))"
   ]
  },
  {
   "cell_type": "markdown",
   "metadata": {},
   "source": [
    "2.4 Crie, com um ciclo for, uma lista com a primeira letra de cada nome.\n",
    "\n",
    "Resultado esperado: `['M', 'M', 'L', 'A', 'Z', 'T', 'A']`"
   ]
  },
  {
   "cell_type": "code",
   "execution_count": 9,
   "metadata": {},
   "outputs": [
    {
     "name": "stdout",
     "output_type": "stream",
     "text": [
      "['M', 'M', 'L', 'A', 'Z', 'T', 'A']\n"
     ]
    }
   ],
   "source": [
    "iniciais = list();\n",
    "\n",
    "for nome in nomes:\n",
    "    iniciais.append(nome[0])\n",
    "\n",
    "print(iniciais)"
   ]
  },
  {
   "cell_type": "markdown",
   "metadata": {},
   "source": [
    "2.5 Crie com uma compreensão uma lista que guarda a primeira letra de cada nome."
   ]
  },
  {
   "cell_type": "code",
   "execution_count": 10,
   "metadata": {},
   "outputs": [
    {
     "name": "stdout",
     "output_type": "stream",
     "text": [
      "['M', 'M', 'L', 'A', 'Z', 'T', 'A']\n"
     ]
    }
   ],
   "source": [
    "print ([letra[0] for letra in nomes])"
   ]
  },
  {
   "cell_type": "markdown",
   "metadata": {},
   "source": [
    "2.6 Crie a lista `ladies` que guarda os nomes terminados em \"a\".\n",
    "\n",
    "\n",
    "Resultado esperado: `['Maria', 'Augusta', 'Ana']`"
   ]
  },
  {
   "cell_type": "code",
   "execution_count": 11,
   "metadata": {},
   "outputs": [
    {
     "name": "stdout",
     "output_type": "stream",
     "text": [
      "['Maria', 'Augusta', 'Ana']\n"
     ]
    }
   ],
   "source": [
    "ladies = list();\n",
    "\n",
    "for nome in nomes:\n",
    "    if nome[-1] == \"a\": \n",
    "        ladies.append(nome)\n",
    "\n",
    "print(ladies)"
   ]
  },
  {
   "cell_type": "markdown",
   "metadata": {},
   "source": [
    "2.7 Crie a lista `ladies` que guarda os nomes terminados em \"a\", usando uma compreensão"
   ]
  },
  {
   "cell_type": "code",
   "execution_count": 12,
   "metadata": {},
   "outputs": [
    {
     "name": "stdout",
     "output_type": "stream",
     "text": [
      "['Maria', 'Augusta', 'Ana']\n"
     ]
    }
   ],
   "source": [
    "print([x for x in nomes if x[-1] == \"a\"])"
   ]
  },
  {
   "cell_type": "markdown",
   "metadata": {},
   "source": [
    "# 3 Processamento de listas com strings\n",
    "\n",
    "Considere a seguinte lista de strings:"
   ]
  },
  {
   "cell_type": "code",
   "execution_count": 14,
   "metadata": {},
   "outputs": [],
   "source": [
    "dados = [\n",
    "    \"Pedro Tamen, 1/1/1934\", \n",
    "    \"Almeida Garrett, 4/2/1799\",\n",
    "    \"Camilo Pessanha, 7/9/1867\",\n",
    "    \"Almada Negreiros, 7/5/1893\",\n",
    "    \"Ibn Bassam, 21/11/1058\",\n",
    "    \"Antonio Aleixo, 18/2/1899\",\n",
    "    \"Agustina Bessa-Luís, 15/10/1922\",\n",
    "    \"Ricardo Reis, 19/9/1887\",\n",
    "    \"Mario Sá-Carneiro, 19/5/1890\",\n",
    "    \"Mario Cesariny, 9/9/1923\",\n",
    "    \"Luis Camões, 10/6/1524\",\n",
    "    \"Miguel Torga, 12/8/1907\",\n",
    "    \"Lidia Jorge, 18/10/1946\"\n",
    "    \"Natália Correia, 12/9/1923\",\n",
    "    \"Tolentino Mendonça, 15/12/1965\",\n",
    "    \"Alberto Caeiro, 16/5/1889\",\n",
    "    \"Jose Saramago, 16/11/1922\",\n",
    "    \"Cesario Verde, 25/2/1855\",\n",
    "    \"Luiz Pacheco, 7/5/1925\",\n",
    "    \"Manuel Alegre, 12/5/1936\",\n",
    "    \"Fernando Pessoa, 13/6/1888\",\n",
    "    \"Herberto Helder, 23/11/1930\",\n",
    "    \"Florbela Espanca, 8/12/1894\"\n",
    "]"
   ]
  },
  {
   "cell_type": "markdown",
   "metadata": {},
   "source": [
    "### Relembrando...\n",
    "\n",
    "No processamento de strings, dois métodos são muito úteis, split e find:"
   ]
  },
  {
   "cell_type": "code",
   "execution_count": 24,
   "metadata": {},
   "outputs": [
    {
     "data": {
      "text/plain": [
       "['Pedro Tamen', '1/1/1934']"
      ]
     },
     "execution_count": 24,
     "metadata": {},
     "output_type": "execute_result"
    }
   ],
   "source": [
    " \"Pedro Tamen, 1/1/1934\".split(', ')"
   ]
  },
  {
   "cell_type": "code",
   "execution_count": 25,
   "metadata": {
    "scrolled": true
   },
   "outputs": [
    {
     "data": {
      "text/plain": [
       "'Pedro Tamen'"
      ]
     },
     "execution_count": 25,
     "metadata": {},
     "output_type": "execute_result"
    }
   ],
   "source": [
    " \"Pedro Tamen, 1/1/1934\".split(',')[0]"
   ]
  },
  {
   "cell_type": "code",
   "execution_count": 26,
   "metadata": {},
   "outputs": [
    {
     "data": {
      "text/plain": [
       "'Pedro'"
      ]
     },
     "execution_count": 26,
     "metadata": {},
     "output_type": "execute_result"
    }
   ],
   "source": [
    "nome = \"Pedro Tamen, 1/1/1934\"\n",
    "nome[:nome.find(' ')] # retorna o índice da primeira ocorrência de ' '"
   ]
  },
  {
   "cell_type": "code",
   "execution_count": 27,
   "metadata": {},
   "outputs": [
    {
     "data": {
      "text/plain": [
       "'Pedro Tamen'"
      ]
     },
     "execution_count": 27,
     "metadata": {},
     "output_type": "execute_result"
    }
   ],
   "source": [
    "nome = \"Pedro Tamen, 1/1/1934\"\n",
    "nome[:nome.find(',')]"
   ]
  },
  {
   "cell_type": "code",
   "execution_count": 28,
   "metadata": {},
   "outputs": [
    {
     "data": {
      "text/plain": [
       "'Tamen'"
      ]
     },
     "execution_count": 28,
     "metadata": {},
     "output_type": "execute_result"
    }
   ],
   "source": [
    "nome = \"Pedro Tamen, 1/1/1934\"\n",
    "nome.split()[1][:-1]"
   ]
  },
  {
   "cell_type": "markdown",
   "metadata": {},
   "source": [
    "As compreensões também são formas simples de transformar uma lista. Por exemplo, criemos a lista com a primeira letra de cada pessoa: "
   ]
  },
  {
   "cell_type": "code",
   "execution_count": 29,
   "metadata": {},
   "outputs": [
    {
     "name": "stdout",
     "output_type": "stream",
     "text": [
      "['P', 'A', 'C', 'A', 'I', 'A', 'A', 'R', 'M', 'M', 'L', 'M', 'L', 'T', 'A', 'J', 'C', 'L', 'M', 'F', 'H', 'F']\n"
     ]
    }
   ],
   "source": [
    "letras = [info[0] for info in dados]\n",
    "print(letras)"
   ]
  },
  {
   "cell_type": "markdown",
   "metadata": {},
   "source": [
    "Criemos uma lista de anos de nascimento de cada pessoa:"
   ]
  },
  {
   "cell_type": "code",
   "execution_count": 30,
   "metadata": {},
   "outputs": [
    {
     "name": "stdout",
     "output_type": "stream",
     "text": [
      "[1934, 1799, 1867, 1893, 1058, 1899, 1922, 1887, 1890, 1923, 1524, 1907, 1923, 1965, 1889, 1922, 1855, 1925, 1936, 1888, 1930, 1894]\n"
     ]
    }
   ],
   "source": [
    "anos = [int(info.split('/')[-1]) for info in dados]\n",
    "print(anos)"
   ]
  },
  {
   "cell_type": "markdown",
   "metadata": {},
   "source": [
    "Criemos um dicionário de anos, onde a chave é a primeira letra do nome e o valor o ano nascimento:"
   ]
  },
  {
   "cell_type": "code",
   "execution_count": 31,
   "metadata": {},
   "outputs": [
    {
     "name": "stdout",
     "output_type": "stream",
     "text": [
      "{'P': 1934, 'A': 1889, 'C': 1855, 'I': 1058, 'R': 1887, 'M': 1936, 'L': 1925, 'T': 1965, 'J': 1922, 'F': 1894, 'H': 1930}\n"
     ]
    }
   ],
   "source": [
    "aniversarios = {info[0]:int(info[-4:]) for info in dados}\n",
    "print(aniversarios)"
   ]
  },
  {
   "cell_type": "markdown",
   "metadata": {},
   "source": [
    "Transformando o dicionario anterior numa lista de tuplos é muito simples com o construtor list, não esquecendo de usar o método items() que especifica que queremos transformar os items, pares (chave e valor):"
   ]
  },
  {
   "cell_type": "code",
   "execution_count": 32,
   "metadata": {},
   "outputs": [
    {
     "name": "stdout",
     "output_type": "stream",
     "text": [
      "[('P', 1934), ('A', 1889), ('C', 1855), ('I', 1058), ('R', 1887), ('M', 1936), ('L', 1925), ('T', 1965), ('J', 1922), ('F', 1894), ('H', 1930)]\n"
     ]
    }
   ],
   "source": [
    "listaAniversarios = list(aniversarios.items())\n",
    "print(listaAniversarios)"
   ]
  },
  {
   "cell_type": "markdown",
   "metadata": {},
   "source": [
    "Podemos ordenar a lista pelo segundo argumento do tuplo da seguinte forma:"
   ]
  },
  {
   "cell_type": "code",
   "execution_count": 36,
   "metadata": {},
   "outputs": [
    {
     "name": "stdout",
     "output_type": "stream",
     "text": [
      "[('I', 1058), ('C', 1855), ('R', 1887), ('A', 1889), ('F', 1894), ('J', 1922), ('L', 1925), ('H', 1930), ('P', 1934), ('M', 1936), ('T', 1965)]\n"
     ]
    }
   ],
   "source": [
    "listaAniversarios.sort(key = lambda tuplo:tuplo[1])\n",
    "print(listaAniversarios)"
   ]
  },
  {
   "cell_type": "markdown",
   "metadata": {},
   "source": [
    "### Exercicios \n",
    "Considere a seguinte lista de strings:"
   ]
  },
  {
   "cell_type": "code",
   "execution_count": 15,
   "metadata": {},
   "outputs": [],
   "source": [
    "dados = [\n",
    "    \"Pedro Tamen, 1/1/1934\", \n",
    "    \"Almeida Garrett, 4/2/1799\",\n",
    "    \"Camilo Pessanha, 7/9/1867\",\n",
    "    \"Almada Negreiros, 7/5/1893\",\n",
    "    \"Ibn Bassam, 21/11/1058\",\n",
    "    \"Antonio Aleixo, 18/2/1899\",\n",
    "    \"Agustina Bessa-Luís, 15/10/1922\",\n",
    "    \"Ricardo Reis, 19/9/1887\",\n",
    "    \"Mario Sá-Carneiro, 19/5/1890\",\n",
    "    \"Mario Cesariny, 9/9/1923\",\n",
    "    \"Luis Camões, 10/6/1524\",\n",
    "    \"Miguel Torga, 12/8/1907\",\n",
    "    \"Lidia Jorge, 18/10/1946\"\n",
    "    \"Natália Correia, 12/9/1923\",\n",
    "    \"Tolentino Mendonça, 15/12/1965\",\n",
    "    \"Alberto Caeiro, 16/5/1889\",\n",
    "    \"Jose Saramago, 16/11/1922\",\n",
    "    \"Cesario Verde, 25/2/1855\",\n",
    "    \"Luiz Pacheco, 7/5/1925\",\n",
    "    \"Manuel Alegre, 12/5/1936\",\n",
    "    \"Fernando Pessoa, 13/6/1888\",\n",
    "    \"Herberto Helder, 23/11/1930\",\n",
    "    \"Florbela Espanca, 8/12/1894\"\n",
    "]"
   ]
  },
  {
   "cell_type": "markdown",
   "metadata": {},
   "source": [
    "3.1 Crie, com um ciclo for, uma lista de strings, onde cada string tem o nome e apelido de cada pessoa. Utilize por exemplo o método split.\n",
    "\n",
    "   * Exemplo de excerto da lista: `nomes = [\"Pedro Tamen\", \"Almeida Garrett\", ...]` "
   ]
  },
  {
   "cell_type": "code",
   "execution_count": 16,
   "metadata": {},
   "outputs": [
    {
     "name": "stdout",
     "output_type": "stream",
     "text": [
      "['Pedro Tamen', 'Almeida Garrett', 'Camilo Pessanha', 'Almada Negreiros', 'Ibn Bassam', 'Antonio Aleixo', 'Agustina Bessa-Luís', 'Ricardo Reis', 'Mario Sá-Carneiro', 'Mario Cesariny', 'Luis Camões', 'Miguel Torga', 'Lidia Jorge', 'Tolentino Mendonça', 'Alberto Caeiro', 'Jose Saramago', 'Cesario Verde', 'Luiz Pacheco', 'Manuel Alegre', 'Fernando Pessoa', 'Herberto Helder', 'Florbela Espanca']\n"
     ]
    }
   ],
   "source": [
    "print([x[:x.find(',')] for x in dados])"
   ]
  },
  {
   "cell_type": "markdown",
   "metadata": {},
   "source": [
    "3.2 Crie uma lista de strings, onde cada string tem a primeira letra (abreviatura) do nome e o apelido de cada pessoa. Tende depois utilizar uma compreensão.\n",
    "\n",
    "   * Exemplo de excerto da lista:  `nomes = [\"P.Tamen\", \"A.Garrett\", ...]` "
   ]
  },
  {
   "cell_type": "code",
   "execution_count": 17,
   "metadata": {},
   "outputs": [
    {
     "name": "stdout",
     "output_type": "stream",
     "text": [
      "['P.Tamen', 'A.Garrett', 'C.Pessanha', 'A.Negreiros', 'I.Bassam', 'A.Aleixo', 'A.Bessa-Luís', 'R.Reis', 'M.Sá-Carneiro', 'M.Cesariny', 'L.Camões', 'M.Torga', 'L.Jorge', 'T.Mendonça', 'A.Caeiro', 'J.Saramago', 'C.Verde', 'L.Pacheco', 'M.Alegre', 'F.Pessoa', 'H.Helder', 'F.Espanca']\n"
     ]
    }
   ],
   "source": [
    "nomesIni = list()\n",
    "\n",
    "for pessoa in dados:\n",
    "    nomesIni.append(pessoa[0] + \".\" + pessoa.split()[1][:-1])\n",
    "\n",
    "print(nomesIni)"
   ]
  },
  {
   "cell_type": "code",
   "execution_count": 18,
   "metadata": {},
   "outputs": [
    {
     "name": "stdout",
     "output_type": "stream",
     "text": [
      "P.Tamen\n",
      "A.Garrett\n",
      "C.Pessanha\n",
      "A.Negreiros\n",
      "I.Bassam\n",
      "A.Aleixo\n",
      "A.Bessa-Luís\n",
      "R.Reis\n",
      "M.Sá-Carneiro\n",
      "M.Cesariny\n",
      "L.Camões\n",
      "M.Torga\n",
      "L.Jorge\n",
      "T.Mendonça\n",
      "A.Caeiro\n",
      "J.Saramago\n",
      "C.Verde\n",
      "L.Pacheco\n",
      "M.Alegre\n",
      "F.Pessoa\n",
      "H.Helder\n",
      "F.Espanca\n"
     ]
    }
   ],
   "source": [
    "print('\\n'.join([pessoa[0] + \".\" + pessoa.split()[1][:-1] for pessoa in dados]))"
   ]
  },
  {
   "cell_type": "markdown",
   "metadata": {},
   "source": [
    "3.3 Ordene a lista pelo apelido\n",
    "\n",
    "Resultado esperado: `['M.Alegre', 'A.Aleixo', 'I.Bassam', 'A.Bessa-Luís', ...`"
   ]
  },
  {
   "cell_type": "code",
   "execution_count": 19,
   "metadata": {},
   "outputs": [
    {
     "name": "stdout",
     "output_type": "stream",
     "text": [
      "['M.Alegre', 'A.Aleixo', 'I.Bassam', 'A.Bessa-Luís', 'A.Caeiro', 'L.Camões', 'M.Cesariny', 'F.Espanca', 'A.Garrett', 'H.Helder', 'L.Jorge', 'T.Mendonça', 'A.Negreiros', 'L.Pacheco', 'C.Pessanha', 'F.Pessoa', 'R.Reis', 'J.Saramago', 'M.Sá-Carneiro', 'P.Tamen', 'M.Torga', 'C.Verde']\n"
     ]
    }
   ],
   "source": [
    "print(sorted(nomesIni, key=lambda n : n.split('.')[1]))"
   ]
  },
  {
   "cell_type": "markdown",
   "metadata": {},
   "source": [
    "3.4 Usando a lista `dados` do exercício anterior, crie um dicionário de anos de nascimento em que a chave é a sigla e apelido, e o valor o ano de nascimento.\n",
    "\n",
    "Exemplo de excerto do dicionário: `anosNascimento = {\"P. Tamen\": 1934, \"A. Garrett\":1799, ...}`"
   ]
  },
  {
   "cell_type": "code",
   "execution_count": 21,
   "metadata": {},
   "outputs": [
    {
     "name": "stdout",
     "output_type": "stream",
     "text": [
      "{'P.Tamen': '1934', 'A.Garrett': '1799', 'C.Pessanha': '1867', 'A.Negreiros': '1893', 'I.Bassam': '1058', 'A.Aleixo': '1899', 'A.Bessa-Luís': '1922', 'R.Reis': '1887', 'M.Sá-Carneiro': '1890', 'M.Cesariny': '1923', 'L.Camões': '1524', 'M.Torga': '1907', 'L.Jorge': '1923', 'T.Mendonça': '1965', 'A.Caeiro': '1889', 'J.Saramago': '1922', 'C.Verde': '1855', 'L.Pacheco': '1925', 'M.Alegre': '1936', 'F.Pessoa': '1888', 'H.Helder': '1930', 'F.Espanca': '1894'}\n"
     ]
    }
   ],
   "source": [
    "anosNascimento = [(ano.split('/')[-1]) for ano in dados]\n",
    "zip_iteracao = (zip(nomesIni,anosNascimento))\n",
    "#dicionario construido com tuplas \n",
    "dicionario = dict(zip_iteracao)\n",
    "print(dicionario)"
   ]
  },
  {
   "cell_type": "markdown",
   "metadata": {},
   "source": [
    "3.5 Converta o dicionario numa lista e ordene-a pelo ano de nascimento de forma decrescente. Use o método items() ds dicionários, e o construtor list."
   ]
  },
  {
   "cell_type": "code",
   "execution_count": 23,
   "metadata": {},
   "outputs": [
    {
     "name": "stdout",
     "output_type": "stream",
     "text": [
      "[('I.Bassam', '1058'), ('L.Camões', '1524'), ('A.Garrett', '1799'), ('C.Verde', '1855'), ('C.Pessanha', '1867'), ('R.Reis', '1887'), ('F.Pessoa', '1888'), ('A.Caeiro', '1889'), ('M.Sá-Carneiro', '1890'), ('A.Negreiros', '1893'), ('F.Espanca', '1894'), ('A.Aleixo', '1899'), ('M.Torga', '1907'), ('A.Bessa-Luís', '1922'), ('J.Saramago', '1922'), ('M.Cesariny', '1923'), ('L.Jorge', '1923'), ('L.Pacheco', '1925'), ('H.Helder', '1930'), ('P.Tamen', '1934'), ('M.Alegre', '1936'), ('T.Mendonça', '1965')]\n"
     ]
    }
   ],
   "source": [
    "listaDicionario = list([(x, y) for x,y in dicionario.items()])\n",
    "print(sorted(listaDicionario, key = lambda item : item[1]))"
   ]
  },
  {
   "cell_type": "markdown",
   "metadata": {},
   "source": [
    "# 4. Dicionários\n",
    "Num infantário perguntaram às crianças qual a prenda de Natal que queriam. Resultou na seguinte lista:"
   ]
  },
  {
   "cell_type": "code",
   "execution_count": 24,
   "metadata": {},
   "outputs": [],
   "source": [
    "lista_brinquedos = [\"bola\", \"boneca\", \"carro\", \"boneca\", \"boneca\", \"bola\", \"boneca\", \"carro\", \n",
    "                    \"boneca\", \"boneca\", \"bola\", \"boneca\", \"carro\", \"boneca\", \"boneca\", \n",
    "                    \"bola\", \"boneca\", \"carro\", \"boneca\", \"boneca\", \"bola\", \"carro\", \"bola\", \n",
    "                    \"carro\", \"boneca\", \"boneca\", \"carro\", \"carro\", \"carro\"]"
   ]
  },
  {
   "cell_type": "markdown",
   "metadata": {},
   "source": [
    "4.1 Crie o set de brinquedos pretendidos\n",
    "\n",
    "Resultado esperado: `{'bola', 'boneca', 'carro'}  - o resultado pode estar noutra ordem pois é um set!`"
   ]
  },
  {
   "cell_type": "code",
   "execution_count": 27,
   "metadata": {},
   "outputs": [],
   "source": [
    "brinquedos_set = set(lista_brinquedos)"
   ]
  },
  {
   "cell_type": "markdown",
   "metadata": {},
   "source": [
    "4.2 Crie um dicionario em que, para cada brinquedo (chave), guarda a quantidade de brinquedos (valor)\n",
    "\n",
    "Resultado esperado: `{'bola': 6, 'boneca': 14, 'carro': 9}`"
   ]
  },
  {
   "cell_type": "code",
   "execution_count": 28,
   "metadata": {},
   "outputs": [
    {
     "name": "stdout",
     "output_type": "stream",
     "text": [
      "{'bola': 6, 'boneca': 14, 'carro': 9}\n"
     ]
    }
   ],
   "source": [
    "brinquedos_dicionario = {toy:lista_brinquedos.count(toy) for toy in lista_brinquedos}\n",
    "print(brinquedos_dicionario)"
   ]
  },
  {
   "cell_type": "markdown",
   "metadata": {},
   "source": [
    "4.3 Transforme os items do dicionario (lembre-se do método para obter os items...) numa lista de tuplos, com a função list\n",
    "\n",
    "Resultado esperado: `[('bola', 6), ('boneca', 14), ('carro', 9)]`"
   ]
  },
  {
   "cell_type": "code",
   "execution_count": 29,
   "metadata": {},
   "outputs": [
    {
     "name": "stdout",
     "output_type": "stream",
     "text": [
      "[('bola', 6), ('boneca', 14), ('carro', 9)]\n"
     ]
    }
   ],
   "source": [
    "print(list(brinquedos_dicionario.items()))"
   ]
  },
  {
   "cell_type": "markdown",
   "metadata": {},
   "source": [
    "4.4 Ordene decrescentemente a lista, pela quantidade de brinquedos\n",
    "\n",
    "Resultado esperado: `[('boneca', 14), ('carro', 9), ('bola', 6)]`"
   ]
  },
  {
   "cell_type": "code",
   "execution_count": 30,
   "metadata": {},
   "outputs": [
    {
     "name": "stdout",
     "output_type": "stream",
     "text": [
      "[('boneca', 14), ('carro', 9), ('bola', 6)]\n"
     ]
    }
   ],
   "source": [
    "print(sorted(list(brinquedos_dicionario.items()), key = lambda item : -item[1]))"
   ]
  },
  {
   "cell_type": "markdown",
   "metadata": {},
   "source": [
    "# 5 Explorando um dicionário\n",
    "\n",
    "Considere o dicionário brinquedos que tem o inventário dos brinquedos de várias crianças:\n",
    "* Manuel tem um carro e uma bola\n",
    "* Maria tem uma boneca e uma bola\n",
    "* Luís tem uma bola, boneca e carro\n",
    "\n",
    "Exemplo de um dicionário."
   ]
  },
  {
   "cell_type": "code",
   "execution_count": 31,
   "metadata": {},
   "outputs": [],
   "source": [
    "brinquedos = {\n",
    "    \"Manuel\": [\"carro\", \"bola\"],\n",
    "    \"Maria\": [\"boneca\", \"bola\"],\n",
    "    \"Luis\": [\"bola\", \"boneca\", \"carro\"]\n",
    "    }"
   ]
  },
  {
   "cell_type": "markdown",
   "metadata": {},
   "source": [
    "5.1 Considerando que o dicionário segue a estrutura anterior, escreva uma instrução que compute quantas crianças existem no dicionário\n",
    "\n",
    "Resultado esperado: `Existem 3 crianças`"
   ]
  },
  {
   "cell_type": "code",
   "execution_count": 32,
   "metadata": {},
   "outputs": [
    {
     "name": "stdout",
     "output_type": "stream",
     "text": [
      "Existem 3 crianças\n"
     ]
    }
   ],
   "source": [
    "print(f\"Existem {len(brinquedos)} crianças\")"
   ]
  },
  {
   "cell_type": "markdown",
   "metadata": {},
   "source": [
    "5.2 Considerando que o dicionário segue a estrutura anterior, imprima a informação de quantos brinquedos cada criança tem, iterando com um ciclo for pelos items do dicionário, e usando uma string formatada.\n",
    "\n",
    "Resultado esperado:\n",
    "\n",
    "```\n",
    "Manuel: 2 brinquedos \n",
    "Maria: 2 brinquedos \n",
    "Luis: 3 brinquedos\n",
    "```"
   ]
  },
  {
   "cell_type": "code",
   "execution_count": 33,
   "metadata": {},
   "outputs": [
    {
     "name": "stdout",
     "output_type": "stream",
     "text": [
      "Manuel: tem 2 brinquedos\n",
      "Maria: tem 2 brinquedos\n",
      "Luis: tem 3 brinquedos\n"
     ]
    }
   ],
   "source": [
    "for crianca,toy in brinquedos.items():\n",
    "    print(f\"{crianca}: tem {len(toy)} brinquedos\")\n",
    "    "
   ]
  },
  {
   "cell_type": "markdown",
   "metadata": {},
   "source": [
    "5.3 Imaginando que conhece a estrutura mas não o conteúdo do dicionário, verifique a quantidade total de brinquedos existente.\n",
    "\n",
    "Exemplo de resultado: `Existem 7 brinquedos`"
   ]
  },
  {
   "cell_type": "code",
   "execution_count": 34,
   "metadata": {},
   "outputs": [
    {
     "name": "stdout",
     "output_type": "stream",
     "text": [
      "Existem 7 brinquedos\n"
     ]
    }
   ],
   "source": [
    "quantidade=0\n",
    "\n",
    "for crianca,toy in brinquedos.items():\n",
    "    quantidade += len(toy)\n",
    "    \n",
    "print(f\"Existem {quantidade} brinquedos\")\n"
   ]
  },
  {
   "cell_type": "markdown",
   "metadata": {},
   "source": [
    "5.4 crie um código que verifique se existe alguma criança com um carro"
   ]
  },
  {
   "cell_type": "code",
   "execution_count": 35,
   "metadata": {},
   "outputs": [
    {
     "data": {
      "text/plain": [
       "True"
      ]
     },
     "execution_count": 35,
     "metadata": {},
     "output_type": "execute_result"
    }
   ],
   "source": [
    "any('carro' in toy for toys in brinquedos.values())"
   ]
  },
  {
   "cell_type": "markdown",
   "metadata": {},
   "source": [
    "5.5 crie um código que indique os nomes das crianças que têm um carro.\n",
    "\n",
    "Resultado esperado: `Manuel Luis `"
   ]
  },
  {
   "cell_type": "code",
   "execution_count": 38,
   "metadata": {},
   "outputs": [
    {
     "name": "stdout",
     "output_type": "stream",
     "text": [
      "['Manuel', 'Luis']\n"
     ]
    }
   ],
   "source": [
    "def find_key(dicionario , valor):    \n",
    "    nomes = []\n",
    "    for crianca,toys in dicionario.items():\n",
    "        if valor in toys:\n",
    "            nomes.append(crianca)\n",
    "    return nomes\n",
    "\n",
    "\n",
    "print(find_key(brinquedos,\"carro\"))"
   ]
  },
  {
   "cell_type": "markdown",
   "metadata": {},
   "source": [
    "5.6 crie um código que indique quantas crianças têm uma boneca\n",
    "\n",
    "Resultado esperado: `Existem 2 crianças com uma boneca`"
   ]
  },
  {
   "cell_type": "code",
   "execution_count": 37,
   "metadata": {},
   "outputs": [
    {
     "name": "stdout",
     "output_type": "stream",
     "text": [
      "Existem 2 crianças com bonecas\n"
     ]
    }
   ],
   "source": [
    "Nbonecas = len(find_key(brinquedos,\"boneca\"))\n",
    "print(f\"Existem {Nbonecas} crianças com bonecas\")"
   ]
  },
  {
   "cell_type": "markdown",
   "metadata": {},
   "source": [
    "5.7 crie uma instrução para adicionar um pião à lista de brinquedos do Manuel"
   ]
  },
  {
   "cell_type": "code",
   "execution_count": 39,
   "metadata": {},
   "outputs": [],
   "source": [
    "#new = {\"Manuel\": [\"carro\", \"bola\",\"pião\"]}\n"
   ]
  },
  {
   "cell_type": "markdown",
   "metadata": {},
   "source": [
    "5.8 remova a bola da lista de brinquedos do Manuel"
   ]
  },
  {
   "cell_type": "code",
   "execution_count": null,
   "metadata": {},
   "outputs": [],
   "source": []
  }
 ],
 "metadata": {
  "kernelspec": {
   "display_name": "Python 3",
   "language": "python",
   "name": "python3"
  },
  "language_info": {
   "codemirror_mode": {
    "name": "ipython",
    "version": 3
   },
   "file_extension": ".py",
   "mimetype": "text/x-python",
   "name": "python",
   "nbconvert_exporter": "python",
   "pygments_lexer": "ipython3",
   "version": "3.8.5"
  }
 },
 "nbformat": 4,
 "nbformat_minor": 4
}
